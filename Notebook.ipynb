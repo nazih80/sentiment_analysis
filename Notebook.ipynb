{
 "cells": [
  {
   "cell_type": "code",
   "execution_count": 13,
   "metadata": {},
   "outputs": [],
   "source": [
    "import pandas as pd\n",
    "pd.set_option('display.max_colwidth', None)\n",
    "df = pd.read_excel(\"Palestinians_Tweets_data.xlsx\")\n",
    "df['Tweet'] = df.Tweet.astype('str')\n",
    "df['Sentiment'] = df.Sentiment.astype('category')"
   ]
  },
  {
   "cell_type": "code",
   "execution_count": 4,
   "metadata": {},
   "outputs": [
    {
     "name": "stdout",
     "output_type": "stream",
     "text": [
      "<class 'pandas.core.frame.DataFrame'>\n",
      "RangeIndex: 2497 entries, 0 to 2496\n",
      "Data columns (total 2 columns):\n",
      " #   Column     Non-Null Count  Dtype   \n",
      "---  ------     --------------  -----   \n",
      " 0   Tweet      2497 non-null   object  \n",
      " 1   Sentiment  2497 non-null   category\n",
      "dtypes: category(1), object(1)\n",
      "memory usage: 22.2+ KB\n"
     ]
    }
   ],
   "source": [
    "df.info()"
   ]
  },
  {
   "cell_type": "code",
   "execution_count": 5,
   "metadata": {},
   "outputs": [
    {
     "data": {
      "text/html": [
       "<div>\n",
       "<style scoped>\n",
       "    .dataframe tbody tr th:only-of-type {\n",
       "        vertical-align: middle;\n",
       "    }\n",
       "\n",
       "    .dataframe tbody tr th {\n",
       "        vertical-align: top;\n",
       "    }\n",
       "\n",
       "    .dataframe thead th {\n",
       "        text-align: right;\n",
       "    }\n",
       "</style>\n",
       "<table border=\"1\" class=\"dataframe\">\n",
       "  <thead>\n",
       "    <tr style=\"text-align: right;\">\n",
       "      <th></th>\n",
       "      <th>Tweet</th>\n",
       "      <th>Sentiment</th>\n",
       "    </tr>\n",
       "  </thead>\n",
       "  <tbody>\n",
       "    <tr>\n",
       "      <th>1186</th>\n",
       "      <td>@BDSmovement We love you #BDS you are one of many that tries to fight back the stealing of our land and the racism we experience everyday from the zionist occupier. Millions continue to boycott the terrorist occupiers and even more are joining everyday as they become more and more aware ❤️</td>\n",
       "      <td>Positive</td>\n",
       "    </tr>\n",
       "    <tr>\n",
       "      <th>194</th>\n",
       "      <td>RT @AmalMohamedAB: The shortage in medicines in Gaza strip has reached 52%.\\n\\n#UNDay #Act4Palestine</td>\n",
       "      <td>Negative</td>\n",
       "    </tr>\n",
       "    <tr>\n",
       "      <th>2069</th>\n",
       "      <td>RT @iamabdul_ch: The amount of hypocrisy in the world is really disgusting. Everyone was with the BLM movement, and everyone should be with Shiekh jarrah.. EVERYONE. #SaveSheikhJarrah #انقذوا_حي_الشيخ_جراح https://t.co/VHVjwZaP1k</td>\n",
       "      <td>Neutral</td>\n",
       "    </tr>\n",
       "    <tr>\n",
       "      <th>174</th>\n",
       "      <td>Many international organizations say that life in Gaza isn't possible; however, they do nothing but saying words!\\n\\n#UNDay #Act4Palestine</td>\n",
       "      <td>Negative</td>\n",
       "    </tr>\n",
       "    <tr>\n",
       "      <th>108</th>\n",
       "      <td>RT @MustbeQuared: My number one rule is hope for the best, plan for the worst. As far as I'm concerned, it's still a serious threat, until proven otherwise.\\n\\n#FreeMaherAlAkhras \\n#Group4Palestine\\n#SobatPalestinaINA https://t.co/CJNfee5bpR</td>\n",
       "      <td>Neutral</td>\n",
       "    </tr>\n",
       "  </tbody>\n",
       "</table>\n",
       "</div>"
      ],
      "text/plain": [
       "                                                                                                                                                                                                                                                                                                   Tweet  \\\n",
       "1186  @BDSmovement We love you #BDS you are one of many that tries to fight back the stealing of our land and the racism we experience everyday from the zionist occupier. Millions continue to boycott the terrorist occupiers and even more are joining everyday as they become more and more aware ❤️   \n",
       "194                                                                                                                                                                                                 RT @AmalMohamedAB: The shortage in medicines in Gaza strip has reached 52%.\\n\\n#UNDay #Act4Palestine   \n",
       "2069                                                               RT @iamabdul_ch: The amount of hypocrisy in the world is really disgusting. Everyone was with the BLM movement, and everyone should be with Shiekh jarrah.. EVERYONE. #SaveSheikhJarrah #انقذوا_حي_الشيخ_جراح https://t.co/VHVjwZaP1k   \n",
       "174                                                                                                                                                           Many international organizations say that life in Gaza isn't possible; however, they do nothing but saying words!\\n\\n#UNDay #Act4Palestine   \n",
       "108                                                    RT @MustbeQuared: My number one rule is hope for the best, plan for the worst. As far as I'm concerned, it's still a serious threat, until proven otherwise.\\n\\n#FreeMaherAlAkhras \\n#Group4Palestine\\n#SobatPalestinaINA https://t.co/CJNfee5bpR   \n",
       "\n",
       "     Sentiment  \n",
       "1186  Positive  \n",
       "194   Negative  \n",
       "2069   Neutral  \n",
       "174   Negative  \n",
       "108    Neutral  "
      ]
     },
     "execution_count": 5,
     "metadata": {},
     "output_type": "execute_result"
    }
   ],
   "source": [
    "df.sample(5)"
   ]
  },
  {
   "cell_type": "code",
   "execution_count": 9,
   "metadata": {},
   "outputs": [
    {
     "name": "stdout",
     "output_type": "stream",
     "text": [
      "Nombre de catégories positives : 557\n",
      "Nombre de catégories négatives : 1438\n",
      "Nombre de catégories neutres : 502\n"
     ]
    }
   ],
   "source": [
    "Sentiment_counts = df['Sentiment'].value_counts()\n",
    "\n",
    "# Affichage des résultats\n",
    "print(\"Nombre de catégories positives :\", Sentiment_counts.get('Positive', 0))\n",
    "print(\"Nombre de catégories négatives :\", Sentiment_counts.get('Negative', 0))\n",
    "print(\"Nombre de catégories neutres :\", Sentiment_counts.get('Neutral', 0))"
   ]
  },
  {
   "cell_type": "code",
   "execution_count": 16,
   "metadata": {},
   "outputs": [
    {
     "name": "stdout",
     "output_type": "stream",
     "text": [
      "Nombre de catégories positives : 502\n",
      "Nombre de catégories négatives : 502\n",
      "Nombre de catégories neutres : 502\n"
     ]
    }
   ],
   "source": [
    "# Convertir les valeurs de la colonne 'Sentiment' en minuscules\n",
    "df['Sentiment'] = df['Sentiment'].str.lower()\n",
    "\n",
    "# Compter les occurrences de chaque catégorie\n",
    "Sentiment_counts = df['Sentiment'].value_counts()\n",
    "\n",
    "# Trouver le nombre minimum d'occurrences parmi les catégories\n",
    "min_count = min(Sentiment_counts)\n",
    "\n",
    "# Échantillonner chaque catégorie pour égaliser les nombres\n",
    "if min_count > 0:\n",
    "    balanced_df = pd.concat([\n",
    "        df[df['Sentiment'] == 'positive'].sample(n=min_count, replace=True),\n",
    "        df[df['Sentiment'] == 'negative'].sample(n=min_count, replace=True),\n",
    "        df[df['Sentiment'] == 'neutral'].sample(n=min_count, replace=True)\n",
    "    ])\n",
    "\n",
    "# Affichage des nouveaux comptages\n",
    "if not balanced_df.empty:\n",
    "    print(\"Nombre de catégories positives :\", len(balanced_df[balanced_df['Sentiment'] == 'positive']))\n",
    "    print(\"Nombre de catégories négatives :\", len(balanced_df[balanced_df['Sentiment'] == 'negative']))\n",
    "    print(\"Nombre de catégories neutres :\", len(balanced_df[balanced_df['Sentiment'] == 'neutral']))\n",
    "\n",
    "# Sauvegarder le nouveau df équilibré\n",
    "    balanced_df.to_excel(\"balanced_df.xlsx\", index=False)\n",
    "\n"
   ]
  },
  {
   "cell_type": "code",
   "execution_count": 15,
   "metadata": {},
   "outputs": [
    {
     "data": {
      "text/plain": [
       "0"
      ]
     },
     "execution_count": 15,
     "metadata": {},
     "output_type": "execute_result"
    }
   ],
   "source": [
    "# Number of empty rows\n",
    "df[\"Tweet\"].isnull().sum() # Prints 0\n",
    "df[\"Sentiment\"].isnull().sum() # Prints 0"
   ]
  },
  {
   "cell_type": "code",
   "execution_count": 17,
   "metadata": {},
   "outputs": [],
   "source": [
    "df1 = pd.read_excel(\"balanced_df.xlsx\")"
   ]
  },
  {
   "cell_type": "code",
   "execution_count": 20,
   "metadata": {},
   "outputs": [],
   "source": [
    "# Converting all strings to lower characters\n",
    "df1['Tweet'] = df1['Tweet'].str.lower()"
   ]
  },
  {
   "cell_type": "code",
   "execution_count": 21,
   "metadata": {},
   "outputs": [],
   "source": [
    "# Removing links, hashtags, mentions, emojis and HTML entities\n",
    "from re import compile, UNICODE\n",
    "urlRE = r'[(http(s)?):\\/\\/(www\\.)?a-z0-9@:%._\\+~#=]{2,256}\\.[a-z]{2,6}\\b([-a-z0-9@:%_\\+.~#?&//=]*)'\n",
    "hashtagRE = r'#[a-z0-9_]+'\n",
    "mentionRE = r'@[a-z0-9_]+'\n",
    "emojiRE = compile(\n",
    "    \"[\"u\"\\U0001F600-\\U0001F64F\" u\"\\U0001F300-\\U0001F5FF\"u\"\\U0001F680-\\U0001F6FF\"u\"\\U0001F1E0-\\U0001F1FF\"\"]+\", flags=UNICODE)\n",
    "HTMLentitiesRE = r'&[a-z0-9#]+;'\n",
    "punctuationRE = r'[^\\w\\s]'\n",
    "df1[\"Tweet\"] = df1[\"Tweet\"].str.replace(urlRE, \"\", regex=True)\n",
    "df1[\"Tweet\"] = df1[\"Tweet\"].str.replace(hashtagRE, \"\", regex=True)\n",
    "df1[\"Tweet\"] = df1[\"Tweet\"].str.replace(mentionRE, \"\", regex=True)\n",
    "df1[\"Tweet\"] = df1[\"Tweet\"].str.replace(emojiRE, \"\", regex=True)\n",
    "df1[\"Tweet\"] = df1[\"Tweet\"].str.replace(HTMLentitiesRE, \"\", regex=True)\n",
    "df1[\"Tweet\"] = df1[\"Tweet\"].str.replace(r'\\n', ' ', regex=True)\n",
    "df1[\"Tweet\"] = df1[\"Tweet\"].str.replace(r'\\brt\\b', ' ', regex=True)\n",
    "df1[\"Tweet\"] = df1[\"Tweet\"].str.replace(punctuationRE, ' ', regex=True)\n",
    "df1[\"Tweet\"] = df1[\"Tweet\"].str.replace(r' +', ' ', regex=True) # Remplaces multiple spaces with one\n",
    "df1[\"Tweet\"] = df1[\"Tweet\"].str.strip() # Removes all spaces from the start and end"
   ]
  },
  {
   "cell_type": "code",
   "execution_count": 40,
   "metadata": {},
   "outputs": [],
   "source": [
    "df1['Sentiment_numeric'] = df1['Sentiment'].map({'positive': 1, 'negative': -1, 'neutral': 0})"
   ]
  },
  {
   "cell_type": "code",
   "execution_count": 41,
   "metadata": {},
   "outputs": [
    {
     "name": "stdout",
     "output_type": "stream",
     "text": [
      "Nombre de valeurs NaN dans la colonne Sentiment_numeric : 0\n"
     ]
    }
   ],
   "source": [
    "nan_values = df1['Sentiment_numeric'].isna().sum()\n",
    "print(\"Nombre de valeurs NaN dans la colonne Sentiment_numeric :\", nan_values)"
   ]
  },
  {
   "cell_type": "code",
   "execution_count": 24,
   "metadata": {},
   "outputs": [],
   "source": [
    "import spacy\n",
    "nlp = spacy.load(\"en_core_web_md\")\n",
    "def preprocess_text(text):\n",
    "    doc = nlp(text)\n",
    "    return \" \".join([token.lemma_ for token in doc if not token.is_stop])\n",
    "df1[\"Processed_Tweet\"] = df1[\"Tweet\"].apply(preprocess_text)"
   ]
  },
  {
   "cell_type": "code",
   "execution_count": 42,
   "metadata": {},
   "outputs": [],
   "source": [
    "from sklearn.model_selection import train_test_split\n",
    "Tweet_train, Tweet_test, Sentiment_train, Sentiment_test = train_test_split(df1['Processed_Tweet'], df1['Sentiment_numeric'], test_size=0.3, random_state=4)"
   ]
  },
  {
   "cell_type": "code",
   "execution_count": 43,
   "metadata": {},
   "outputs": [],
   "source": [
    "from sklearn.feature_extraction.text import TfidfVectorizer\n",
    "vectorizer = TfidfVectorizer()\n",
    "Tweet_train_vectors = vectorizer.fit_transform(Tweet_train)\n",
    "Tweet_test_vectors = vectorizer.transform(Tweet_test)"
   ]
  },
  {
   "cell_type": "code",
   "execution_count": 46,
   "metadata": {},
   "outputs": [],
   "source": [
    "from sklearn.svm import SVC\n",
    "import numpy as np\n",
    "# Training the SVM model\n",
    "SVM_model = SVC(kernel='linear')\n",
    "SVM_model.fit(Tweet_train_vectors, Sentiment_train)\n",
    "# Getting predictions\n",
    "Sentiment_predicted = SVM_model.predict(Tweet_test_vectors)"
   ]
  },
  {
   "cell_type": "code",
   "execution_count": 47,
   "metadata": {},
   "outputs": [
    {
     "name": "stdout",
     "output_type": "stream",
     "text": [
      "              precision    recall  f1-score   support\n",
      "\n",
      "    negative       0.68      0.68      0.68       149\n",
      "     neutral       0.64      0.69      0.66       147\n",
      "    positive       0.81      0.76      0.78       156\n",
      "\n",
      "    accuracy                           0.71       452\n",
      "   macro avg       0.71      0.71      0.71       452\n",
      "weighted avg       0.71      0.71      0.71       452\n",
      "\n"
     ]
    },
    {
     "data": {
      "image/png": "[encoded data removed]",
      "text/plain": [
       "<Figure size 640x480 with 2 Axes>"
      ]
     },
     "metadata": {},
     "output_type": "display_data"
    }
   ],
   "source": [
    "from sklearn.metrics import ConfusionMatrixDisplay, classification_report, confusion_matrix\n",
    "class_names = ['negative','neutral','positive']\n",
    "ConfusionMatrixDisplay(confusion_matrix(Sentiment_test, Sentiment_predicted),display_labels=class_names).plot()\n",
    "print(classification_report(Sentiment_test, Sentiment_predicted, target_names=class_names))"
   ]
  },
  {
   "cell_type": "code",
   "execution_count": 48,
   "metadata": {},
   "outputs": [
    {
     "data": {
      "text/plain": [
       "['vectorizer.joblib']"
      ]
     },
     "execution_count": 48,
     "metadata": {},
     "output_type": "execute_result"
    }
   ],
   "source": [
    "from joblib import dump\n",
    "dump(SVM_model, 'SVM_model.joblib')\n",
    "dump(vectorizer, 'vectorizer.joblib')"
   ]
  }
 ],
 "metadata": {
  "kernelspec": {
   "display_name": "Python 3",
   "language": "python",
   "name": "python3"
  },
  "language_info": {
   "codemirror_mode": {
    "name": "ipython",
    "version": 3
   },
   "file_extension": ".py",
   "mimetype": "text/x-python",
   "name": "python",
   "nbconvert_exporter": "python",
   "pygments_lexer": "ipython3",
   "version": "3.12.1"
  }
 },
 "nbformat": 4,
 "nbformat_minor": 2
}
